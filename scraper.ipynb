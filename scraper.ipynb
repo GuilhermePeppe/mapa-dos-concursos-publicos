{
 "cells": [
  {
   "cell_type": "code",
   "execution_count": 1,
   "id": "b45abfcf",
   "metadata": {},
   "outputs": [],
   "source": [
    "import requests\n",
    "from bs4 import BeautifulSoup as soup\n",
    "import pandas as pd\n",
    "import re\n",
    "import geopandas as gpd\n",
    "import matplotlib.pyplot as plt\n",
    "import folium\n",
    "from folium.plugins import FastMarkerCluster, MarkerCluster\n",
    "from datetime import date as dt\n",
    "import numpy as np"
   ]
  },
  {
   "cell_type": "code",
   "execution_count": 2,
   "id": "e9427773",
   "metadata": {},
   "outputs": [
    {
     "data": {
      "text/html": [
       "<style>.container { width:85% !important; }</style>"
      ],
      "text/plain": [
       "<IPython.core.display.HTML object>"
      ]
     },
     "metadata": {},
     "output_type": "display_data"
    }
   ],
   "source": [
    "from IPython.display import display, HTML\n",
    "display(HTML(\"<style>.container { width:85% !important; }</style>\"))\n",
    "pd.set_option('display.max_columns', None)"
   ]
  },
  {
   "cell_type": "markdown",
   "id": "32c7b559",
   "metadata": {},
   "source": [
    "Uso de web scraping para tabular dados de sites de concurso público que agregam editais e combinação com geoprocessamento para criar um mapa interativo de localidades com editais abertos.\n",
    "\n",
    "A tabulação dos dados é feita com a biblioteca Geopandas e operações com o shapefile da malha municipal disponibilizado pelo IBGE. O mapa interativo é construído com a biblioteca Folium"
   ]
  },
  {
   "cell_type": "code",
   "execution_count": 3,
   "id": "371f881b",
   "metadata": {
    "scrolled": false
   },
   "outputs": [
    {
     "name": "stdout",
     "output_type": "stream",
     "text": [
      "Requirement already satisfied: dbfread in c:\\users\\elizabeth\\anaconda3\\lib\\site-packages (2.0.7)\n"
     ]
    }
   ],
   "source": [
    "!pip install dbfread"
   ]
  },
  {
   "cell_type": "code",
   "execution_count": 4,
   "id": "81a648e1",
   "metadata": {},
   "outputs": [
    {
     "name": "stdout",
     "output_type": "stream",
     "text": [
      "Requirement already satisfied: descartes in c:\\users\\elizabeth\\anaconda3\\lib\\site-packages (1.1.0)\n",
      "Requirement already satisfied: matplotlib in c:\\users\\elizabeth\\anaconda3\\lib\\site-packages (from descartes) (3.9.2)\n",
      "Requirement already satisfied: contourpy>=1.0.1 in c:\\users\\elizabeth\\anaconda3\\lib\\site-packages (from matplotlib->descartes) (1.0.5)\n",
      "Requirement already satisfied: cycler>=0.10 in c:\\users\\elizabeth\\anaconda3\\lib\\site-packages (from matplotlib->descartes) (0.11.0)\n",
      "Requirement already satisfied: fonttools>=4.22.0 in c:\\users\\elizabeth\\anaconda3\\lib\\site-packages (from matplotlib->descartes) (4.25.0)\n",
      "Requirement already satisfied: kiwisolver>=1.3.1 in c:\\users\\elizabeth\\anaconda3\\lib\\site-packages (from matplotlib->descartes) (1.4.4)\n",
      "Requirement already satisfied: numpy>=1.23 in c:\\users\\elizabeth\\anaconda3\\lib\\site-packages (from matplotlib->descartes) (1.24.3)\n",
      "Requirement already satisfied: packaging>=20.0 in c:\\users\\elizabeth\\anaconda3\\lib\\site-packages (from matplotlib->descartes) (23.0)\n",
      "Requirement already satisfied: pillow>=8 in c:\\users\\elizabeth\\anaconda3\\lib\\site-packages (from matplotlib->descartes) (10.4.0)\n",
      "Requirement already satisfied: pyparsing>=2.3.1 in c:\\users\\elizabeth\\anaconda3\\lib\\site-packages (from matplotlib->descartes) (3.0.9)\n",
      "Requirement already satisfied: python-dateutil>=2.7 in c:\\users\\elizabeth\\anaconda3\\lib\\site-packages (from matplotlib->descartes) (2.8.2)\n",
      "Requirement already satisfied: six>=1.5 in c:\\users\\elizabeth\\anaconda3\\lib\\site-packages (from python-dateutil>=2.7->matplotlib->descartes) (1.16.0)\n"
     ]
    }
   ],
   "source": [
    "!pip install descartes"
   ]
  },
  {
   "cell_type": "code",
   "execution_count": 5,
   "id": "d664f00e",
   "metadata": {
    "scrolled": true
   },
   "outputs": [
    {
     "name": "stdout",
     "output_type": "stream",
     "text": [
      "Requirement already satisfied: folium in c:\\users\\elizabeth\\anaconda3\\lib\\site-packages (0.14.0)\n",
      "Requirement already satisfied: branca>=0.6.0 in c:\\users\\elizabeth\\anaconda3\\lib\\site-packages (from folium) (0.6.0)\n",
      "Requirement already satisfied: jinja2>=2.9 in c:\\users\\elizabeth\\anaconda3\\lib\\site-packages (from folium) (3.1.2)\n",
      "Requirement already satisfied: numpy in c:\\users\\elizabeth\\anaconda3\\lib\\site-packages (from folium) (1.24.3)\n",
      "Requirement already satisfied: requests in c:\\users\\elizabeth\\anaconda3\\lib\\site-packages (from folium) (2.31.0)\n",
      "Requirement already satisfied: MarkupSafe>=2.0 in c:\\users\\elizabeth\\anaconda3\\lib\\site-packages (from jinja2>=2.9->folium) (2.1.1)\n",
      "Requirement already satisfied: charset-normalizer<4,>=2 in c:\\users\\elizabeth\\anaconda3\\lib\\site-packages (from requests->folium) (2.0.4)\n",
      "Requirement already satisfied: idna<4,>=2.5 in c:\\users\\elizabeth\\anaconda3\\lib\\site-packages (from requests->folium) (3.4)\n",
      "Requirement already satisfied: urllib3<3,>=1.21.1 in c:\\users\\elizabeth\\anaconda3\\lib\\site-packages (from requests->folium) (1.26.16)\n",
      "Requirement already satisfied: certifi>=2017.4.17 in c:\\users\\elizabeth\\anaconda3\\lib\\site-packages (from requests->folium) (2024.8.30)\n"
     ]
    }
   ],
   "source": [
    "!pip install folium"
   ]
  },
  {
   "cell_type": "code",
   "execution_count": 6,
   "id": "976f7134",
   "metadata": {
    "scrolled": true
   },
   "outputs": [],
   "source": [
    "def load_geodata():\n",
    "\n",
    "    brMun = gpd.read_file('BR_Municipios_2022.shp') #shapefile municipios                                       \n",
    "    brMun['NM_MUN_tokens']=brMun['NM_MUN'].str.replace(' de ',' ').str\\\n",
    "                                                        .replace(' do ',' ').str\\\n",
    "                                                        .replace(' da ',' ').str\\\n",
    "                                                        .replace(' dos ',' ').str\\\n",
    "                                                        .replace(' das ',' ')\n",
    "    return brMun\n",
    "\n",
    "def pci_dataframe(url='https://www.pciconcursos.com.br/concursos/'):\n",
    "    headers={'User-Agent':'Mozilla/5.0 (Windows NT 10.0; Win64; x64) AppleWebKit/537.36 '\n",
    "             '(KHTML, like Gecko) Chrome/129.0.0.0 Safari/537.36 Edg/129.0.0.0'}\n",
    "\n",
    "    r = requests.get(url=url, headers=headers) #requesição ao pciconcursos\n",
    "    content = soup(r.content, 'html.parser')\n",
    "\n",
    "    classNa = content.body.div.next_element.next_element.findAll('div', {'class':'ca'})\n",
    "    datas = [re.search('\\d\\d/\\d\\d/\\d\\d\\d\\d', x.findChild('div', {'class':'ce'}).text) for x in classNa]\n",
    "    datas = pd.Series(\n",
    "                [pd.to_datetime(x[0], format='%d/%m/%Y').date() \n",
    "                if x is not None else pd.NA for x in datas], name='data')\n",
    "    titulos = [x.findChild().get('title') for x in classNa]\n",
    "    links = pd.Series([x.findChild().get('href') for x in classNa], name='link')\n",
    "\n",
    "    mask=[[(t.isupper()|t.istitle()) for t in titulo.split()] for titulo in titulos]\n",
    "    tokens= [np.array(titulo.split(' '))[mask[n_]] for n_, titulo in enumerate(titulos)]\n",
    "\n",
    "    dfPCI = pd.DataFrame({'cidade': np.nan*len(tokens), \n",
    "                          'estado': ''*len(tokens), \n",
    "                          'orgao': np.nan*len(tokens)},\n",
    "                           index=range(0,len(tokens)))\n",
    "    \n",
    "    for n_, token in enumerate(tokens): #extraindo município, estado e órgão \n",
    "        municipio = []                  #do título da página\n",
    "        for i_, t in enumerate(token):\n",
    "            if t in ' '.join(brMun['NM_MUN_tokens'].values) and t!='Câmara':\n",
    "                municipio.append(t)\n",
    "                tokens[n_] = token.tolist().remove(t)\n",
    "            elif t.strip(':') in brMun['UF'].values:\n",
    "                dfPCI.loc[n_, 'estado'] = t.rstrip(':')\n",
    "                tokens[n_] = token.tolist().remove(t)\n",
    "            elif t.isupper() or t=='Câmara' or t=='Prefeitura':\n",
    "                dfPCI.loc[n_, 'orgao'] = t.rstrip(':')\n",
    "                tokens[n_] = token.tolist().remove(t)\n",
    "        dfPCI.loc[n_, 'cidade'] = ' '.join(municipio)\n",
    "    dfPCI = pd.concat([dfPCI, links, datas], axis=1)\n",
    "    dfPCI['cidade'] = dfPCI['cidade'].replace('', np.nan)\n",
    "    \n",
    "    return dfPCI"
   ]
  },
  {
   "cell_type": "markdown",
   "id": "6d513163",
   "metadata": {},
   "source": [
    "Complementando com o estratégia concursos. Extrair dados de html pode requerer várias regras pela falta de padronização dos dados."
   ]
  },
  {
   "cell_type": "code",
   "execution_count": 7,
   "id": "f24bc39d",
   "metadata": {},
   "outputs": [],
   "source": [
    "def estrat_dataframe(url='https://www.estrategiaconcursos.com.br/blog/concursos-abertos/'):\n",
    "    url=url\n",
    "    headers={'User-Agent':'Mozilla/5.0 (Windows NT 10.0; Win64; x64) AppleWebKit/537.36 '\n",
    "             '(KHTML, like Gecko) Chrome/129.0.0.0 Safari/537.36 Edg/129.0.0.0'}\n",
    "\n",
    "    r = requests.get(url=url, headers=headers)\n",
    "    content = soup(r.content, 'html.parser')\n",
    "    \n",
    "    concursos = content.findAll(['h3'], {'class':\"wp-block-heading\"})\n",
    "    detalhes = content.findAll('ul', {'class':\"wp-block-list\"})[2:-1]\n",
    "\n",
    "    links = [i.find('a').get('href') for i in concursos]\n",
    "    localidades = [i.text.split('(') for i in concursos]\n",
    "    detalhes_t = [i.text.split('\\n') for i in detalhes]\n",
    "    \n",
    "    for i, loc in enumerate(localidades):\n",
    "        detalhes_t[i][0] = 'cidade: ' + loc[0]\n",
    "        detalhes_t[i][-1] = 'estado: ' + loc[-1][:-1]\n",
    "        detalhes_t[i].append(links[i])\n",
    "    valores = []\n",
    "    for info in detalhes_t:\n",
    "        campo_valor = [i.split(':') if ':' in i else i.split(re.match(i, r'\\xa0')) for i in info]\n",
    "        valor = []\n",
    "        for c_v in range(0,len(info), 1):\n",
    "            valor.append(campo_valor[c_v][1].strip())\n",
    "        valores.append(valor)\n",
    "    \n",
    "    dfEstrat = pd.DataFrame(valores[:-1])[[0, 6, 7, 3]]\n",
    "    dfEstrat.columns = ['cidade', 'estado', 'link', 'data']\n",
    "    \n",
    "    dfEstrat['data'] = dfEstrat['data'].replace('[0-3][0-9] e |º|Enem|[0-9] e ' , '', regex=True)\n",
    "    dfEstrat['data'] = dfEstrat['data'].apply(lambda x : pd.NA if 'suspen' in x else\n",
    "                                             x+'/'+str(dt.today().year) if len(x)==5 else\n",
    "                                          '0'+x+'/'+str(dt.today().year) if len(x)<5 else\n",
    "                                          pd.NA if x.replace('/','').isnumeric()!=True\n",
    "                                          else x)\n",
    "    erros = []\n",
    "    for n, data in enumerate(dfEstrat['data']):\n",
    "        try:\n",
    "            dfEstrat['data'][n] = pd.to_datetime(data)\n",
    "        except:\n",
    "            erros.append(n)\n",
    "    \n",
    "    dfEstrat = dfEstrat.drop(erros).reset_index(drop=True)\n",
    "    dfEstrat['cidade'] = dfEstrat['cidade'].str.replace('Concurso', '').str.replace('Saúde', '').str.replace('Juiz', '')\n",
    "    dfEstrat['estado'] = dfEstrat['estado'].str.replace(')', '')\\\n",
    "                                           .apply(lambda x : x if len(x)==2 and x.isupper() else '')\n",
    "\n",
    "    municipios = brMun.sort_values('POP', ascending=False)['NM_MUN'].values\n",
    "    for n, cid in enumerate(dfEstrat['cidade'].values):\n",
    "        for mun in municipios:\n",
    "            if mun in cid:\n",
    "                dfEstrat.loc[n, 'cidade'] = mun\n",
    "        \n",
    "    dfEstrat.insert(2, 'orgao', dfEstrat['link'].apply(lambda x : \n",
    "                                                   'prefeitura' if 'prefeitura' in x else \n",
    "                                                   'câmara legislativa' if 'camara' in x else 'outros'))\n",
    "    ufs = brMun['UF'].values\n",
    "    for n, uf in enumerate(dfEstrat['cidade']):\n",
    "        for uf_ in uf.split(' '):\n",
    "            if uf_.isupper() and uf_ in ufs:\n",
    "                dfEstrat.loc[n, 'estado'] = uf_\n",
    "                dfEstrat.loc[n, 'cidade'] = np.nan\n",
    "            elif (uf_.isupper() and uf_ not in ufs) or (uf_.istitle() and uf_ not in municipios):\n",
    "                dfEstrat.loc[n, 'orgao'] = uf_\n",
    "                dfEstrat.loc[n, 'cidade'] = np.nan\n",
    "    return dfEstrat\n",
    "\n",
    "def busca_localidade(df): #pegar cidade do endereço de um órgão sem localidade definida com o bing\n",
    "    orgaos_sem_localidade = df[(df['cidade'].isna())&(df['orgao'].isna()==False)\n",
    "                               &(df['orgao']!='Prefeitura')&(df['orgao']!='Câmara')].index\n",
    "                               \n",
    "    municipios = brMun.sort_values('POP', ascending=False)['NM_MUN'].values\n",
    "    \n",
    "    for n_, link in df.loc[orgaos_sem_localidade].iterrows():\n",
    "        url = f'https://www.bing.com.br/search?q=endereço%{link[\"estado\"].lower()}%{link[\"orgao\"]}'\n",
    "        headers={'User-Agent':'Mozilla/5.0 (Windows NT 10.0; Win64; x64) AppleWebKit/537.36 '\n",
    "                     '(KHTML, like Gecko) Chrome/129.0.0.0 Safari/537.36 Edg/129.0.0.0'}\n",
    "\n",
    "        r = requests.get(url=url, headers=headers)\n",
    "        content = soup(r.content, 'html.parser').text\n",
    "        #content = ' '.join([c.text for c in content.findAll('em')])\n",
    "\n",
    "        for cidade in municipios:\n",
    "            try:\n",
    "                if ' '+cidade in content:\n",
    "                    df.loc[n_, 'cidade'] = cidade\n",
    "                    print(cidade + '\\n' + content.text)\n",
    "                    break\n",
    "                else:\n",
    "                    pass\n",
    "            except:\n",
    "                if ' '+cidade in content:\n",
    "                    df.loc[n_, 'cidade'] = cidade\n",
    "                    print(cidade + '\\n' + content)\n",
    "                    break\n",
    "                else:\n",
    "                    pass\n",
    "        print(lista[-1])\n",
    "\n",
    "    return df"
   ]
  },
  {
   "cell_type": "code",
   "execution_count": 8,
   "id": "c469d3ea",
   "metadata": {},
   "outputs": [],
   "source": [
    "def busca_uf(df): #procura pelo estado que estejam faltando\n",
    "    df.reset_index(drop=True, inplace=True)\n",
    "    sem_uf = df[(df['estado'].isna())&(df['cidade'].isna()==False)]\n",
    "    for n in sem_uf.index:\n",
    "        for n_, cidade_ in enumerate(brMun['NM_MUN'].values):\n",
    "            if df['cidade'][n] == cidade_:\n",
    "                df.loc[n, 'estado'] = brMun.loc[n_, 'UF']\n",
    "                print(n, cidade_, n_, brMun.loc[n_, 'UF'])\n",
    "                \n",
    "    return df"
   ]
  },
  {
   "cell_type": "code",
   "execution_count": 9,
   "id": "b51fa6db",
   "metadata": {},
   "outputs": [],
   "source": [
    "def remove_specialChars(df): #remover acentos e outros sinais gráficos das cidades\n",
    "    global carac_sub\n",
    "    carac_sub = {'Á':'A', 'À': 'A', 'Ã': 'A', 'Â': 'A',\n",
    "                     'É': 'E', 'Ê': 'E', 'Í': 'I', 'Ó': 'O',\n",
    "                     'Õ': 'O', 'Ô': 'O', 'Ú': 'U', 'Ç': 'C'}\n",
    "    df['cidade'] = df['cidade'].str.upper().replace(carac_sub, regex=True).reset_index(drop=True)\n",
    "    return df"
   ]
  },
  {
   "cell_type": "code",
   "execution_count": 10,
   "id": "3d72bdba",
   "metadata": {},
   "outputs": [],
   "source": [
    "def mergeData(df, data): #unir dados coletados com aqueles do shapefile do IBGE\n",
    "    df = df.merge(data, left_on=['cidade','estado'], \n",
    "                        right_on=['NM_MUN','UF'], \n",
    "                        how='left').dropna()\n",
    "    \n",
    "    to_drop = df.columns[['_x' in x for x in df.columns]]\n",
    "    df = gpd.GeoDataFrame(df, geometry='geometry').drop(to_drop, axis=1).reset_index(drop=True)\n",
    "    df.drop(['NM_MUN','UF'],axis=1, inplace=True)\n",
    "    \n",
    "    return df"
   ]
  },
  {
   "cell_type": "code",
   "execution_count": 11,
   "id": "b0a4d1cb",
   "metadata": {},
   "outputs": [],
   "source": [
    "def addFields(df): #campos que serão utilizados na plotagem dos dados: latitude, longitude,\n",
    "                    #centroid dos municipios e texto que será mostrado no popup\n",
    "    df['links_ac'] = [f'<h4 style=\"text-align:center\">{x[0]}</h4><br><a href={x[1]}'\n",
    "                      f' target=\"_blank\">{x[1]}</a>' for x in zip(df['cidade'], df[\"link\"])]\n",
    "\n",
    "    df['centroid'] = [x.centroid if x is not None else pd.NA for x in df['geometry']]\n",
    "    df['centroid'] = df['geometry'].astype('geometry')\n",
    "    df['y'], df['x'] = df.centroid.y, df.centroid.x\n",
    "\n",
    "    return df"
   ]
  },
  {
   "cell_type": "code",
   "execution_count": 12,
   "id": "87b5892b",
   "metadata": {
    "scrolled": false
   },
   "outputs": [],
   "source": [
    "def plot_data(df): #plotar dados em mapa de cluster\n",
    "    latitudeMedia = df[df['data'].isna()==False].centroid.y.median()\n",
    "    longetudeMedia = df[df['data'].isna()==False].centroid.x.median()\n",
    "    fmap = folium.Map(location=[latitudeMedia, longetudeMedia], zoom_start=7)\n",
    "    mc = MarkerCluster(df[['y','x']], popups=df['links_ac'].tolist())\n",
    "    for _, r in df.iterrows():\n",
    "\n",
    "        sim_geo = gpd.GeoSeries(r['geometry']).simplify(tolerance=0.001)\n",
    "        geo_j = sim_geo.to_json()\n",
    "        geo_j = folium.GeoJson(data=geo_j,\n",
    "                               style_function=lambda x: {'fillColor': 'orange',\n",
    "                                                          'weight': 1})\n",
    "        geo_j.add_to(fmap)\n",
    "\n",
    "\n",
    "    return fmap.add_child(mc)"
   ]
  },
  {
   "cell_type": "code",
   "execution_count": 13,
   "id": "dc02cd46",
   "metadata": {},
   "outputs": [],
   "source": [
    "brMun = load_geodata()"
   ]
  },
  {
   "cell_type": "code",
   "execution_count": 14,
   "id": "acad9a2f",
   "metadata": {},
   "outputs": [
    {
     "name": "stderr",
     "output_type": "stream",
     "text": [
      "C:\\Users\\Elizabeth\\AppData\\Local\\Temp\\ipykernel_3592\\2021036300.py:40: UserWarning: Parsing dates in DD/MM/YYYY format when dayfirst=False (the default) was specified. This may lead to inconsistently parsed dates! Specify a format to ensure consistent parsing.\n",
      "  dfEstrat['data'][n] = pd.to_datetime(data)\n",
      "C:\\Users\\Elizabeth\\AppData\\Local\\Temp\\ipykernel_3592\\2021036300.py:46: FutureWarning: The default value of regex will change from True to False in a future version. In addition, single character regular expressions will *not* be treated as literal strings when regex=True.\n",
      "  dfEstrat['estado'] = dfEstrat['estado'].str.replace(')', '')\\\n"
     ]
    }
   ],
   "source": [
    "df = pd.concat([pci_dataframe(), estrat_dataframe()]).reset_index(drop=True)"
   ]
  },
  {
   "cell_type": "code",
   "execution_count": 15,
   "id": "1230c6dd",
   "metadata": {
    "scrolled": false
   },
   "outputs": [],
   "source": [
    "#busca_localidade(df)"
   ]
  },
  {
   "cell_type": "markdown",
   "id": "ca2cc1c1",
   "metadata": {},
   "source": [
    "#df.to_csv('dados_tabulados.csv', index=False)\n",
    "df=pd.read_csv('dados_tabulados.csv')"
   ]
  },
  {
   "cell_type": "code",
   "execution_count": 16,
   "id": "d0e8913e",
   "metadata": {
    "scrolled": true
   },
   "outputs": [
    {
     "data": {
      "text/html": [
       "<div>\n",
       "<style scoped>\n",
       "    .dataframe tbody tr th:only-of-type {\n",
       "        vertical-align: middle;\n",
       "    }\n",
       "\n",
       "    .dataframe tbody tr th {\n",
       "        vertical-align: top;\n",
       "    }\n",
       "\n",
       "    .dataframe thead th {\n",
       "        text-align: right;\n",
       "    }\n",
       "</style>\n",
       "<table border=\"1\" class=\"dataframe\">\n",
       "  <thead>\n",
       "    <tr style=\"text-align: right;\">\n",
       "      <th></th>\n",
       "      <th>cidade</th>\n",
       "      <th>estado</th>\n",
       "      <th>orgao</th>\n",
       "      <th>link</th>\n",
       "      <th>data</th>\n",
       "    </tr>\n",
       "  </thead>\n",
       "  <tbody>\n",
       "    <tr>\n",
       "      <th>0</th>\n",
       "      <td>NaN</td>\n",
       "      <td></td>\n",
       "      <td>INSA</td>\n",
       "      <td>https://www.pciconcursos.com.br/noticias/insa-...</td>\n",
       "      <td>2024-12-26</td>\n",
       "    </tr>\n",
       "    <tr>\n",
       "      <th>1</th>\n",
       "      <td>NaN</td>\n",
       "      <td></td>\n",
       "      <td>TRF</td>\n",
       "      <td>https://www.pciconcursos.com.br/noticias/trf-6...</td>\n",
       "      <td>2024-11-08</td>\n",
       "    </tr>\n",
       "    <tr>\n",
       "      <th>2</th>\n",
       "      <td>Osasco</td>\n",
       "      <td>SP</td>\n",
       "      <td>FITO</td>\n",
       "      <td>https://www.pciconcursos.com.br/noticias/fito-...</td>\n",
       "      <td>2024-11-18</td>\n",
       "    </tr>\n",
       "    <tr>\n",
       "      <th>3</th>\n",
       "      <td>Botucatu</td>\n",
       "      <td>SP</td>\n",
       "      <td>Prefeitura</td>\n",
       "      <td>https://www.pciconcursos.com.br/noticias/concu...</td>\n",
       "      <td>2024-11-17</td>\n",
       "    </tr>\n",
       "    <tr>\n",
       "      <th>4</th>\n",
       "      <td>Guarulhos</td>\n",
       "      <td>SP</td>\n",
       "      <td>Prefeitura</td>\n",
       "      <td>https://www.pciconcursos.com.br/noticias/prefe...</td>\n",
       "      <td>2024-11-21</td>\n",
       "    </tr>\n",
       "    <tr>\n",
       "      <th>...</th>\n",
       "      <td>...</td>\n",
       "      <td>...</td>\n",
       "      <td>...</td>\n",
       "      <td>...</td>\n",
       "      <td>...</td>\n",
       "    </tr>\n",
       "    <tr>\n",
       "      <th>486</th>\n",
       "      <td>NaN</td>\n",
       "      <td></td>\n",
       "      <td>INSA</td>\n",
       "      <td>//www.estrategiaconcursos.com.br/blog/concurso...</td>\n",
       "      <td>2025-02-23 00:00:00</td>\n",
       "    </tr>\n",
       "    <tr>\n",
       "      <th>487</th>\n",
       "      <td>NaN</td>\n",
       "      <td></td>\n",
       "      <td>INPP</td>\n",
       "      <td>//www.estrategiaconcursos.com.br/blog/concurso...</td>\n",
       "      <td>2025-02-02 00:00:00</td>\n",
       "    </tr>\n",
       "    <tr>\n",
       "      <th>488</th>\n",
       "      <td>Jardim</td>\n",
       "      <td>RJ</td>\n",
       "      <td>outros</td>\n",
       "      <td>//www.estrategiaconcursos.com.br/blog/concurso...</td>\n",
       "      <td>NaT</td>\n",
       "    </tr>\n",
       "    <tr>\n",
       "      <th>489</th>\n",
       "      <td>NaN</td>\n",
       "      <td>MG</td>\n",
       "      <td>Ativos</td>\n",
       "      <td>//www.estrategiaconcursos.com.br/blog/concurso...</td>\n",
       "      <td>2025-09-02 00:00:00</td>\n",
       "    </tr>\n",
       "    <tr>\n",
       "      <th>490</th>\n",
       "      <td>NaN</td>\n",
       "      <td></td>\n",
       "      <td>ACFOR</td>\n",
       "      <td>//www.estrategiaconcursos.com.br/blog/concurso...</td>\n",
       "      <td>2024-12-15 00:00:00</td>\n",
       "    </tr>\n",
       "  </tbody>\n",
       "</table>\n",
       "<p>491 rows × 5 columns</p>\n",
       "</div>"
      ],
      "text/plain": [
       "        cidade estado       orgao  \\\n",
       "0          NaN               INSA   \n",
       "1          NaN                TRF   \n",
       "2       Osasco     SP        FITO   \n",
       "3     Botucatu     SP  Prefeitura   \n",
       "4    Guarulhos     SP  Prefeitura   \n",
       "..         ...    ...         ...   \n",
       "486        NaN               INSA   \n",
       "487        NaN               INPP   \n",
       "488     Jardim     RJ      outros   \n",
       "489        NaN     MG      Ativos   \n",
       "490        NaN              ACFOR   \n",
       "\n",
       "                                                  link                 data  \n",
       "0    https://www.pciconcursos.com.br/noticias/insa-...           2024-12-26  \n",
       "1    https://www.pciconcursos.com.br/noticias/trf-6...           2024-11-08  \n",
       "2    https://www.pciconcursos.com.br/noticias/fito-...           2024-11-18  \n",
       "3    https://www.pciconcursos.com.br/noticias/concu...           2024-11-17  \n",
       "4    https://www.pciconcursos.com.br/noticias/prefe...           2024-11-21  \n",
       "..                                                 ...                  ...  \n",
       "486  //www.estrategiaconcursos.com.br/blog/concurso...  2025-02-23 00:00:00  \n",
       "487  //www.estrategiaconcursos.com.br/blog/concurso...  2025-02-02 00:00:00  \n",
       "488  //www.estrategiaconcursos.com.br/blog/concurso...                  NaT  \n",
       "489  //www.estrategiaconcursos.com.br/blog/concurso...  2025-09-02 00:00:00  \n",
       "490  //www.estrategiaconcursos.com.br/blog/concurso...  2024-12-15 00:00:00  \n",
       "\n",
       "[491 rows x 5 columns]"
      ]
     },
     "execution_count": 16,
     "metadata": {},
     "output_type": "execute_result"
    }
   ],
   "source": [
    "busca_uf(df)"
   ]
  },
  {
   "cell_type": "code",
   "execution_count": null,
   "id": "129de5c2",
   "metadata": {},
   "outputs": [
    {
     "name": "stderr",
     "output_type": "stream",
     "text": [
      "C:\\Users\\Elizabeth\\AppData\\Local\\Temp\\ipykernel_3592\\3537775827.py:8: UserWarning: Geometry is in a geographic CRS. Results from 'centroid' are likely incorrect. Use 'GeoSeries.to_crs()' to re-project geometries to a projected CRS before this operation.\n",
      "\n",
      "  df['y'], df['x'] = df.centroid.y, df.centroid.x\n",
      "C:\\Users\\Elizabeth\\AppData\\Local\\Temp\\ipykernel_3592\\1514991943.py:2: UserWarning: Geometry is in a geographic CRS. Results from 'centroid' are likely incorrect. Use 'GeoSeries.to_crs()' to re-project geometries to a projected CRS before this operation.\n",
      "\n",
      "  latitudeMedia = df[df['data'].isna()==False].centroid.y.median()\n",
      "C:\\Users\\Elizabeth\\AppData\\Local\\Temp\\ipykernel_3592\\1514991943.py:3: UserWarning: Geometry is in a geographic CRS. Results from 'centroid' are likely incorrect. Use 'GeoSeries.to_crs()' to re-project geometries to a projected CRS before this operation.\n",
      "\n",
      "  longetudeMedia = df[df['data'].isna()==False].centroid.x.median()\n"
     ]
    }
   ],
   "source": [
    "mergeData(df, brMun).pipe(addFields).pipe(plot_data)"
   ]
  },
  {
   "cell_type": "code",
   "execution_count": null,
   "id": "9d8b4491",
   "metadata": {},
   "outputs": [],
   "source": [
    "url = f'https://www.bing.com.br/search?q=endereço%{\"guaraiprev\"}%{\"sp\"}'\n",
    "headers={'User-Agent':'Mozilla/5.0 (Windows NT 10.0; Win64; x64) AppleWebKit/537.36 '\n",
    "             '(KHTML, like Gecko) Chrome/129.0.0.0 Safari/537.36 Edg/129.0.0.0'}\n",
    "\n",
    "r = requests.get(url=url, headers=headers)\n",
    "content = soup(r.content, 'html.parser')"
   ]
  }
 ],
 "metadata": {
  "kernelspec": {
   "display_name": "Python 3 (ipykernel)",
   "language": "python",
   "name": "python3"
  },
  "language_info": {
   "codemirror_mode": {
    "name": "ipython",
    "version": 3
   },
   "file_extension": ".py",
   "mimetype": "text/x-python",
   "name": "python",
   "nbconvert_exporter": "python",
   "pygments_lexer": "ipython3",
   "version": "3.11.9"
  }
 },
 "nbformat": 4,
 "nbformat_minor": 5
}
